{
 "cells": [
  {
   "cell_type": "markdown",
   "metadata": {},
   "source": [
    "Read the file ratings and movies\n"
   ]
  },
  {
   "cell_type": "code",
   "execution_count": null,
   "metadata": {
    "application/vnd.databricks.v1+cell": {
     "cellMetadata": {
      "byteLimit": 2048000,
      "rowLimit": 10000
     },
     "inputWidgets": {},
     "nuid": "6b07dde9-22f8-4ca4-80cf-131b6fa38ff5",
     "showTitle": false,
     "title": ""
    }
   },
   "outputs": [],
   "source": [
    "ratings_filename = \"dbfs:/mnt/temp/Data/ratings.csv\"\n",
    "movies_filename = \"dbfs:/mnt/temp/Data/movies.csv\""
   ]
  },
  {
   "cell_type": "markdown",
   "metadata": {},
   "source": [
    "Check the file is now there or not"
   ]
  },
  {
   "cell_type": "code",
   "execution_count": null,
   "metadata": {
    "application/vnd.databricks.v1+cell": {
     "cellMetadata": {
      "byteLimit": 2048000,
      "rowLimit": 10000
     },
     "inputWidgets": {},
     "nuid": "85150ff2-5d12-4ded-865e-75685fb4c85f",
     "showTitle": false,
     "title": ""
    }
   },
   "outputs": [
    {
     "data": {
      "text/html": [
       "<style scoped>\n",
       "  .table-result-container {\n",
       "    max-height: 300px;\n",
       "    overflow: auto;\n",
       "  }\n",
       "  table, th, td {\n",
       "    border: 1px solid black;\n",
       "    border-collapse: collapse;\n",
       "  }\n",
       "  th, td {\n",
       "    padding: 5px;\n",
       "  }\n",
       "  th {\n",
       "    text-align: left;\n",
       "  }\n",
       "</style><div class='table-result-container'><table class='table-result'><thead style='background-color: white'><tr><th>path</th><th>name</th><th>size</th><th>modificationTime</th></tr></thead><tbody><tr><td>dbfs:/mnt/temp/Data/genome-tags.csv</td><td>genome-tags.csv</td><td>18103</td><td>1693939976000</td></tr><tr><td>dbfs:/mnt/temp/Data/links.csv</td><td>links.csv</td><td>1368578</td><td>1693939976000</td></tr><tr><td>dbfs:/mnt/temp/Data/movies.csv</td><td>movies.csv</td><td>3038099</td><td>1693939977000</td></tr><tr><td>dbfs:/mnt/temp/Data/ratings.csv</td><td>ratings.csv</td><td>678260987</td><td>1693940021000</td></tr></tbody></table></div>"
      ]
     },
     "metadata": {
      "application/vnd.databricks.v1+output": {
       "addedWidgets": {},
       "aggData": [],
       "aggError": "",
       "aggOverflow": false,
       "aggSchema": [],
       "aggSeriesLimitReached": false,
       "aggType": "",
       "arguments": {},
       "columnCustomDisplayInfos": {},
       "data": [
        [
         "dbfs:/mnt/temp/Data/genome-tags.csv",
         "genome-tags.csv",
         18103,
         1693939976000
        ],
        [
         "dbfs:/mnt/temp/Data/links.csv",
         "links.csv",
         1368578,
         1693939976000
        ],
        [
         "dbfs:/mnt/temp/Data/movies.csv",
         "movies.csv",
         3038099,
         1693939977000
        ],
        [
         "dbfs:/mnt/temp/Data/ratings.csv",
         "ratings.csv",
         678260987,
         1693940021000
        ]
       ],
       "datasetInfos": [],
       "dbfsResultPath": null,
       "isJsonSchema": true,
       "metadata": {
        "isDbfsCommandResult": false
       },
       "overflow": false,
       "plotOptions": {
        "customPlotOptions": {},
        "displayType": "table",
        "pivotAggregation": null,
        "pivotColumns": null,
        "xColumns": null,
        "yColumns": null
       },
       "removedWidgets": [],
       "schema": [
        {
         "metadata": "{}",
         "name": "path",
         "type": "\"string\""
        },
        {
         "metadata": "{}",
         "name": "name",
         "type": "\"string\""
        },
        {
         "metadata": "{}",
         "name": "size",
         "type": "\"long\""
        },
        {
         "metadata": "{}",
         "name": "modificationTime",
         "type": "\"long\""
        }
       ],
       "type": "table"
      }
     },
     "output_type": "display_data"
    }
   ],
   "source": [
    "%fs\n",
    "ls /mnt/temp/Data"
   ]
  },
  {
   "cell_type": "markdown",
   "metadata": {},
   "source": [
    "Working only on movies.csv right now and define its structure"
   ]
  },
  {
   "cell_type": "code",
   "execution_count": null,
   "metadata": {
    "application/vnd.databricks.v1+cell": {
     "cellMetadata": {
      "byteLimit": 2048000,
      "rowLimit": 10000
     },
     "inputWidgets": {},
     "nuid": "b1f79d31-9486-437f-9eb2-778034e2148e",
     "showTitle": false,
     "title": ""
    }
   },
   "outputs": [],
   "source": [
    "from pyspark.sql.types import *\n",
    "\n",
    "movies_with_genres_df_schema = StructType(\n",
    "[StructField('ID', IntegerType()),\n",
    "StructField('title', StringType()),\n",
    "StructField('genres',StringType())]\n",
    ")\n",
    "\n",
    "movies_df_schema = StructType(\n",
    "[StructField('ID', IntegerType()),\n",
    "StructField('title', StringType())]\n",
    ") \n",
    "#dropping the genres.Also, we will tranform the df to include the Year later"
   ]
  },
  {
   "cell_type": "markdown",
   "metadata": {},
   "source": [
    "Creating dataframe with the schema you have defined"
   ]
  },
  {
   "cell_type": "code",
   "execution_count": null,
   "metadata": {
    "application/vnd.databricks.v1+cell": {
     "cellMetadata": {
      "byteLimit": 2048000,
      "rowLimit": 10000
     },
     "inputWidgets": {},
     "nuid": "2c5f41b5-c198-42ef-bba1-89b3996013b8",
     "showTitle": false,
     "title": ""
    }
   },
   "outputs": [],
   "source": [
    "movies_df = sqlContext.read.format('com.databricks.spark.csv')\n",
    ".options(header=True,inferSchema=False).schema(movies_df_schema).load(movies_filename)\n",
    "\n",
    "movies_with_genres_df = sqlContext.read.format('com.databricks.spark.csv')\n",
    ".options(header=True,inferSchema=False).schema(movies_with_genres_df_schema).load(movies_filename)"
   ]
  },
  {
   "cell_type": "markdown",
   "metadata": {},
   "source": [
    "Show results"
   ]
  },
  {
   "cell_type": "code",
   "execution_count": null,
   "metadata": {
    "application/vnd.databricks.v1+cell": {
     "cellMetadata": {
      "byteLimit": 2048000,
      "rowLimit": 10000
     },
     "inputWidgets": {},
     "nuid": "e02fa081-a767-42f1-afd4-21106bcfb43e",
     "showTitle": false,
     "title": ""
    }
   },
   "outputs": [
    {
     "name": "stdout",
     "output_type": "stream",
     "text": [
      "+---+------------------------+\n",
      "|ID |title                   |\n",
      "+---+------------------------+\n",
      "|1  |Toy Story (1995)        |\n",
      "|2  |Jumanji (1995)          |\n",
      "|3  |Grumpier Old Men (1995) |\n",
      "|4  |Waiting to Exhale (1995)|\n",
      "+---+------------------------+\n",
      "only showing top 4 rows\n",
      "\n",
      "+---+------------------------+-------------------------------------------+\n",
      "|ID |title                   |genres                                     |\n",
      "+---+------------------------+-------------------------------------------+\n",
      "|1  |Toy Story (1995)        |Adventure|Animation|Children|Comedy|Fantasy|\n",
      "|2  |Jumanji (1995)          |Adventure|Children|Fantasy                 |\n",
      "|3  |Grumpier Old Men (1995) |Comedy|Romance                             |\n",
      "|4  |Waiting to Exhale (1995)|Comedy|Drama|Romance                       |\n",
      "+---+------------------------+-------------------------------------------+\n",
      "only showing top 4 rows\n",
      "\n"
     ]
    }
   ],
   "source": [
    "movies_df.show(4, truncate=False)\n",
    "movies_with_genres_df.show(4, truncate=False)"
   ]
  },
  {
   "cell_type": "markdown",
   "metadata": {},
   "source": [
    "We extract the year of movies base on the title"
   ]
  },
  {
   "cell_type": "code",
   "execution_count": null,
   "metadata": {
    "application/vnd.databricks.v1+cell": {
     "cellMetadata": {
      "byteLimit": 2048000,
      "rowLimit": 10000
     },
     "inputWidgets": {},
     "nuid": "18e6592d-5164-4a90-abf4-4192dbf2e5ee",
     "showTitle": false,
     "title": ""
    }
   },
   "outputs": [],
   "source": [
    "#transforming the Dataframes\n",
    "from pyspark.sql.functions import split, regexp_extract\n",
    "\n",
    "movies_with_year_df = movies_df.select('ID', 'title', regexp_extract('title', r'\\((\\d+)\\)',1).alias('year'))"
   ]
  },
  {
   "cell_type": "markdown",
   "metadata": {},
   "source": [
    "Take a look of our results"
   ]
  },
  {
   "cell_type": "code",
   "execution_count": null,
   "metadata": {
    "application/vnd.databricks.v1+cell": {
     "cellMetadata": {
      "byteLimit": 2048000,
      "rowLimit": 10000
     },
     "inputWidgets": {},
     "nuid": "33b6b588-a26d-47a3-a16a-1734a8bac745",
     "showTitle": false,
     "title": ""
    }
   },
   "outputs": [
    {
     "name": "stdout",
     "output_type": "stream",
     "text": [
      "+---+------------------------+----+\n",
      "|ID |title                   |year|\n",
      "+---+------------------------+----+\n",
      "|1  |Toy Story (1995)        |1995|\n",
      "|2  |Jumanji (1995)          |1995|\n",
      "|3  |Grumpier Old Men (1995) |1995|\n",
      "|4  |Waiting to Exhale (1995)|1995|\n",
      "+---+------------------------+----+\n",
      "only showing top 4 rows\n",
      "\n"
     ]
    }
   ],
   "source": [
    "movies_with_year_df.show(4, truncate = False)"
   ]
  },
  {
   "cell_type": "markdown",
   "metadata": {},
   "source": [
    "Now we have one more column for year to aggregate function on!"
   ]
  },
  {
   "cell_type": "code",
   "execution_count": null,
   "metadata": {
    "application/vnd.databricks.v1+cell": {
     "cellMetadata": {
      "byteLimit": 2048000,
      "rowLimit": 10000
     },
     "inputWidgets": {},
     "nuid": "036e77a1-3fad-4fb0-baae-3d249c3c6c40",
     "showTitle": false,
     "title": ""
    }
   },
   "outputs": [
    {
     "data": {
      "text/html": [
       "<style scoped>\n",
       "  .table-result-container {\n",
       "    max-height: 300px;\n",
       "    overflow: auto;\n",
       "  }\n",
       "  table, th, td {\n",
       "    border: 1px solid black;\n",
       "    border-collapse: collapse;\n",
       "  }\n",
       "  th, td {\n",
       "    padding: 5px;\n",
       "  }\n",
       "  th {\n",
       "    text-align: left;\n",
       "  }\n",
       "</style><div class='table-result-container'><table class='table-result'><thead style='background-color: white'><tr><th>year</th><th>count</th></tr></thead><tbody><tr><td>2015</td><td>2513</td></tr><tr><td>2016</td><td>2488</td></tr><tr><td>2014</td><td>2406</td></tr><tr><td>2017</td><td>2374</td></tr><tr><td>2013</td><td>2173</td></tr><tr><td>2018</td><td>2034</td></tr><tr><td>2012</td><td>1978</td></tr><tr><td>2011</td><td>1838</td></tr><tr><td>2009</td><td>1723</td></tr><tr><td>2010</td><td>1691</td></tr><tr><td>2008</td><td>1632</td></tr><tr><td>2007</td><td>1498</td></tr><tr><td>2006</td><td>1446</td></tr><tr><td>2005</td><td>1255</td></tr><tr><td>2004</td><td>1172</td></tr><tr><td>2003</td><td>1028</td></tr><tr><td>2002</td><td>1024</td></tr><tr><td>2019</td><td>994</td></tr><tr><td>2001</td><td>971</td></tr><tr><td>2000</td><td>929</td></tr><tr><td>1999</td><td>812</td></tr><tr><td>1998</td><td>803</td></tr><tr><td>1997</td><td>792</td></tr><tr><td>1995</td><td>705</td></tr><tr><td>1996</td><td>703</td></tr><tr><td>1994</td><td>644</td></tr><tr><td>1988</td><td>628</td></tr><tr><td>1989</td><td>609</td></tr><tr><td>1987</td><td>595</td></tr><tr><td>1993</td><td>571</td></tr><tr><td>1992</td><td>563</td></tr><tr><td>1972</td><td>556</td></tr><tr><td>1990</td><td>538</td></tr><tr><td>1971</td><td>534</td></tr><tr><td>1991</td><td>524</td></tr><tr><td>1973</td><td>515</td></tr><tr><td>1986</td><td>513</td></tr><tr><td>1985</td><td>513</td></tr><tr><td>1974</td><td>511</td></tr><tr><td>1970</td><td>491</td></tr><tr><td>1976</td><td>490</td></tr><tr><td>1979</td><td>487</td></tr><tr><td>1984</td><td>471</td></tr><tr><td>1980</td><td>470</td></tr><tr><td>1977</td><td>469</td></tr><tr><td>1981</td><td>462</td></tr><tr><td>1982</td><td>461</td></tr><tr><td>1983</td><td>460</td></tr><tr><td>1968</td><td>458</td></tr><tr><td>1978</td><td>457</td></tr><tr><td>1975</td><td>448</td></tr><tr><td>1969</td><td>442</td></tr><tr><td></td><td>410</td></tr><tr><td>1966</td><td>404</td></tr><tr><td>1967</td><td>388</td></tr><tr><td>1964</td><td>367</td></tr><tr><td>1965</td><td>362</td></tr><tr><td>1957</td><td>336</td></tr><tr><td>1963</td><td>317</td></tr><tr><td>1955</td><td>315</td></tr><tr><td>1958</td><td>309</td></tr><tr><td>1953</td><td>304</td></tr><tr><td>1959</td><td>304</td></tr><tr><td>1956</td><td>294</td></tr><tr><td>1962</td><td>289</td></tr><tr><td>1961</td><td>289</td></tr><tr><td>1952</td><td>287</td></tr><tr><td>1954</td><td>285</td></tr><tr><td>1950</td><td>279</td></tr><tr><td>1960</td><td>269</td></tr><tr><td>1951</td><td>268</td></tr><tr><td>1949</td><td>266</td></tr><tr><td>1942</td><td>257</td></tr><tr><td>1948</td><td>245</td></tr><tr><td>1937</td><td>235</td></tr><tr><td>1941</td><td>232</td></tr><tr><td>1947</td><td>232</td></tr><tr><td>1936</td><td>230</td></tr><tr><td>1935</td><td>227</td></tr><tr><td>1943</td><td>223</td></tr><tr><td>1940</td><td>223</td></tr><tr><td>1934</td><td>219</td></tr><tr><td>1945</td><td>219</td></tr><tr><td>1933</td><td>218</td></tr><tr><td>1946</td><td>217</td></tr><tr><td>1932</td><td>215</td></tr><tr><td>1939</td><td>214</td></tr><tr><td>1944</td><td>212</td></tr><tr><td>1938</td><td>209</td></tr><tr><td>1931</td><td>173</td></tr><tr><td>1930</td><td>129</td></tr><tr><td>1929</td><td>117</td></tr><tr><td>1928</td><td>77</td></tr><tr><td>1926</td><td>66</td></tr><tr><td>1927</td><td>62</td></tr><tr><td>1925</td><td>52</td></tr><tr><td>1921</td><td>48</td></tr><tr><td>1922</td><td>46</td></tr><tr><td>1924</td><td>42</td></tr><tr><td>1914</td><td>42</td></tr><tr><td>1916</td><td>37</td></tr><tr><td>1920</td><td>36</td></tr><tr><td>1919</td><td>30</td></tr><tr><td>1923</td><td>30</td></tr><tr><td>1915</td><td>28</td></tr><tr><td>1903</td><td>26</td></tr><tr><td>1917</td><td>26</td></tr><tr><td>1900</td><td>22</td></tr><tr><td>1896</td><td>22</td></tr><tr><td>1894</td><td>22</td></tr><tr><td>1918</td><td>20</td></tr><tr><td>1912</td><td>19</td></tr><tr><td>1907</td><td>18</td></tr><tr><td>1906</td><td>17</td></tr><tr><td>1908</td><td>17</td></tr><tr><td>1909</td><td>16</td></tr><tr><td>1895</td><td>15</td></tr><tr><td>1913</td><td>15</td></tr><tr><td>1898</td><td>14</td></tr><tr><td>1897</td><td>13</td></tr><tr><td>1901</td><td>12</td></tr><tr><td>1910</td><td>11</td></tr><tr><td>1911</td><td>11</td></tr><tr><td>1904</td><td>11</td></tr><tr><td>1905</td><td>10</td></tr><tr><td>1899</td><td>8</td></tr><tr><td>1891</td><td>6</td></tr><tr><td>1902</td><td>6</td></tr><tr><td>1890</td><td>5</td></tr><tr><td>1888</td><td>4</td></tr><tr><td>1892</td><td>3</td></tr><tr><td>1880</td><td>1</td></tr><tr><td>69</td><td>1</td></tr><tr><td>1874</td><td>1</td></tr><tr><td>1887</td><td>1</td></tr><tr><td>1883</td><td>1</td></tr><tr><td>1878</td><td>1</td></tr><tr><td>06</td><td>1</td></tr><tr><td>500</td><td>1</td></tr></tbody></table></div>"
      ]
     },
     "metadata": {
      "application/vnd.databricks.v1+output": {
       "addedWidgets": {},
       "aggData": [],
       "aggError": "",
       "aggOverflow": false,
       "aggSchema": [],
       "aggSeriesLimitReached": false,
       "aggType": "",
       "arguments": {},
       "columnCustomDisplayInfos": {},
       "data": [
        [
         "2015",
         2513
        ],
        [
         "2016",
         2488
        ],
        [
         "2014",
         2406
        ],
        [
         "2017",
         2374
        ],
        [
         "2013",
         2173
        ],
        [
         "2018",
         2034
        ],
        [
         "2012",
         1978
        ],
        [
         "2011",
         1838
        ],
        [
         "2009",
         1723
        ],
        [
         "2010",
         1691
        ],
        [
         "2008",
         1632
        ],
        [
         "2007",
         1498
        ],
        [
         "2006",
         1446
        ],
        [
         "2005",
         1255
        ],
        [
         "2004",
         1172
        ],
        [
         "2003",
         1028
        ],
        [
         "2002",
         1024
        ],
        [
         "2019",
         994
        ],
        [
         "2001",
         971
        ],
        [
         "2000",
         929
        ],
        [
         "1999",
         812
        ],
        [
         "1998",
         803
        ],
        [
         "1997",
         792
        ],
        [
         "1995",
         705
        ],
        [
         "1996",
         703
        ],
        [
         "1994",
         644
        ],
        [
         "1988",
         628
        ],
        [
         "1989",
         609
        ],
        [
         "1987",
         595
        ],
        [
         "1993",
         571
        ],
        [
         "1992",
         563
        ],
        [
         "1972",
         556
        ],
        [
         "1990",
         538
        ],
        [
         "1971",
         534
        ],
        [
         "1991",
         524
        ],
        [
         "1973",
         515
        ],
        [
         "1986",
         513
        ],
        [
         "1985",
         513
        ],
        [
         "1974",
         511
        ],
        [
         "1970",
         491
        ],
        [
         "1976",
         490
        ],
        [
         "1979",
         487
        ],
        [
         "1984",
         471
        ],
        [
         "1980",
         470
        ],
        [
         "1977",
         469
        ],
        [
         "1981",
         462
        ],
        [
         "1982",
         461
        ],
        [
         "1983",
         460
        ],
        [
         "1968",
         458
        ],
        [
         "1978",
         457
        ],
        [
         "1975",
         448
        ],
        [
         "1969",
         442
        ],
        [
         "",
         410
        ],
        [
         "1966",
         404
        ],
        [
         "1967",
         388
        ],
        [
         "1964",
         367
        ],
        [
         "1965",
         362
        ],
        [
         "1957",
         336
        ],
        [
         "1963",
         317
        ],
        [
         "1955",
         315
        ],
        [
         "1958",
         309
        ],
        [
         "1953",
         304
        ],
        [
         "1959",
         304
        ],
        [
         "1956",
         294
        ],
        [
         "1962",
         289
        ],
        [
         "1961",
         289
        ],
        [
         "1952",
         287
        ],
        [
         "1954",
         285
        ],
        [
         "1950",
         279
        ],
        [
         "1960",
         269
        ],
        [
         "1951",
         268
        ],
        [
         "1949",
         266
        ],
        [
         "1942",
         257
        ],
        [
         "1948",
         245
        ],
        [
         "1937",
         235
        ],
        [
         "1941",
         232
        ],
        [
         "1947",
         232
        ],
        [
         "1936",
         230
        ],
        [
         "1935",
         227
        ],
        [
         "1943",
         223
        ],
        [
         "1940",
         223
        ],
        [
         "1934",
         219
        ],
        [
         "1945",
         219
        ],
        [
         "1933",
         218
        ],
        [
         "1946",
         217
        ],
        [
         "1932",
         215
        ],
        [
         "1939",
         214
        ],
        [
         "1944",
         212
        ],
        [
         "1938",
         209
        ],
        [
         "1931",
         173
        ],
        [
         "1930",
         129
        ],
        [
         "1929",
         117
        ],
        [
         "1928",
         77
        ],
        [
         "1926",
         66
        ],
        [
         "1927",
         62
        ],
        [
         "1925",
         52
        ],
        [
         "1921",
         48
        ],
        [
         "1922",
         46
        ],
        [
         "1924",
         42
        ],
        [
         "1914",
         42
        ],
        [
         "1916",
         37
        ],
        [
         "1920",
         36
        ],
        [
         "1919",
         30
        ],
        [
         "1923",
         30
        ],
        [
         "1915",
         28
        ],
        [
         "1903",
         26
        ],
        [
         "1917",
         26
        ],
        [
         "1900",
         22
        ],
        [
         "1896",
         22
        ],
        [
         "1894",
         22
        ],
        [
         "1918",
         20
        ],
        [
         "1912",
         19
        ],
        [
         "1907",
         18
        ],
        [
         "1906",
         17
        ],
        [
         "1908",
         17
        ],
        [
         "1909",
         16
        ],
        [
         "1895",
         15
        ],
        [
         "1913",
         15
        ],
        [
         "1898",
         14
        ],
        [
         "1897",
         13
        ],
        [
         "1901",
         12
        ],
        [
         "1910",
         11
        ],
        [
         "1911",
         11
        ],
        [
         "1904",
         11
        ],
        [
         "1905",
         10
        ],
        [
         "1899",
         8
        ],
        [
         "1891",
         6
        ],
        [
         "1902",
         6
        ],
        [
         "1890",
         5
        ],
        [
         "1888",
         4
        ],
        [
         "1892",
         3
        ],
        [
         "1880",
         1
        ],
        [
         "69",
         1
        ],
        [
         "1874",
         1
        ],
        [
         "1887",
         1
        ],
        [
         "1883",
         1
        ],
        [
         "1878",
         1
        ],
        [
         "06",
         1
        ],
        [
         "500",
         1
        ]
       ],
       "datasetInfos": [],
       "dbfsResultPath": null,
       "isJsonSchema": true,
       "metadata": {},
       "overflow": false,
       "plotOptions": {
        "customPlotOptions": {},
        "displayType": "table",
        "pivotAggregation": null,
        "pivotColumns": null,
        "xColumns": null,
        "yColumns": null
       },
       "removedWidgets": [],
       "schema": [
        {
         "metadata": "{}",
         "name": "year",
         "type": "\"string\""
        },
        {
         "metadata": "{}",
         "name": "count",
         "type": "\"long\""
        }
       ],
       "type": "table"
      }
     },
     "output_type": "display_data"
    }
   ],
   "source": [
    "#from here we can look at the count and find that the maximum each year produced\n",
    "display(movies_with_year_df.groupby('year').count().orderBy('count', ascending = False))"
   ]
  },
  {
   "cell_type": "markdown",
   "metadata": {},
   "source": [
    "Now to the ratings file and again for avoiding the action we are explicity defining the schema"
   ]
  },
  {
   "cell_type": "code",
   "execution_count": null,
   "metadata": {
    "application/vnd.databricks.v1+cell": {
     "cellMetadata": {
      "byteLimit": 2048000,
      "rowLimit": 10000
     },
     "inputWidgets": {},
     "nuid": "e374489e-ac64-429f-9858-4f3db3a6e7f2",
     "showTitle": false,
     "title": ""
    }
   },
   "outputs": [],
   "source": [
    "rating_df_schema = StructType(\n",
    "[StructField('userId', IntegerType()),\n",
    "StructField('movieId', IntegerType()),\n",
    "StructField('rating',DoubleType())]\n",
    ")\n",
    "\n",
    "#we are dropping the Time Stamp column"
   ]
  },
  {
   "cell_type": "markdown",
   "metadata": {},
   "source": [
    "Creating dataframe with the schema you have defined"
   ]
  },
  {
   "cell_type": "code",
   "execution_count": null,
   "metadata": {
    "application/vnd.databricks.v1+cell": {
     "cellMetadata": {
      "byteLimit": 2048000,
      "rowLimit": 10000
     },
     "inputWidgets": {},
     "nuid": "8bb15e49-3a73-4e66-b4fa-e782f61b1c01",
     "showTitle": false,
     "title": ""
    }
   },
   "outputs": [
    {
     "name": "stdout",
     "output_type": "stream",
     "text": [
      "+------+-------+------+\n",
      "|userId|movieId|rating|\n",
      "+------+-------+------+\n",
      "|     1|    296|   5.0|\n",
      "|     1|    306|   3.5|\n",
      "|     1|    307|   5.0|\n",
      "|     1|    665|   5.0|\n",
      "+------+-------+------+\n",
      "only showing top 4 rows\n",
      "\n"
     ]
    }
   ],
   "source": [
    "ratings_df = sqlContext.read.format('com.databricks.spark.csv')\n",
    ".options(header=True,inferSchema=False).schema(rating_df_schema).load(ratings_filename)\n",
    "ratings_df.show(4)"
   ]
  },
  {
   "cell_type": "markdown",
   "metadata": {},
   "source": [
    "We will cache both dataframes for accessing quickly"
   ]
  },
  {
   "cell_type": "code",
   "execution_count": null,
   "metadata": {
    "application/vnd.databricks.v1+cell": {
     "cellMetadata": {
      "byteLimit": 2048000,
      "rowLimit": 10000
     },
     "inputWidgets": {},
     "nuid": "d7d6ab8e-1b21-4d47-9d90-b58fa281ee45",
     "showTitle": false,
     "title": ""
    }
   },
   "outputs": [
    {
     "name": "stdout",
     "output_type": "stream",
     "text": [
      "Out[24]: DataFrame[ID: int, title: string]"
     ]
    }
   ],
   "source": [
    "ratings_df.cache()\n",
    "movies_df.cache()"
   ]
  },
  {
   "cell_type": "markdown",
   "metadata": {},
   "source": [
    "From ratingDF, create a movie_ids_with_avg_ratings_df that combines two dataframes"
   ]
  },
  {
   "cell_type": "code",
   "execution_count": null,
   "metadata": {
    "application/vnd.databricks.v1+cell": {
     "cellMetadata": {
      "byteLimit": 2048000,
      "rowLimit": 10000
     },
     "inputWidgets": {},
     "nuid": "69172b75-277b-4f6d-ad2b-3c3da65b6cff",
     "showTitle": false,
     "title": ""
    }
   },
   "outputs": [
    {
     "name": "stdout",
     "output_type": "stream",
     "text": [
      "movie_ids_with_avg_ratings_df:\n",
      "+-------+-----+------------------+\n",
      "|movieId|count|average           |\n",
      "+-------+-----+------------------+\n",
      "|1088   |11935|3.25002094679514  |\n",
      "|1580   |40308|3.5817083457378187|\n",
      "|3175   |14659|3.6077836141619484|\n",
      "|44022  |4833 |3.2593627146699773|\n",
      "+-------+-----+------------------+\n",
      "only showing top 4 rows\n",
      "\n"
     ]
    }
   ],
   "source": [
    "from pyspark.sql import functions as F\n",
    "\n",
    "movie_ids_with_avg_ratings_df = ratings_df.groupBy('movieId').agg(F.count(ratings_df.rating).alias(\"count\"), F.avg(ratings_df.rating).alias(\"average\"))\n",
    "print('movie_ids_with_avg_ratings_df:')\n",
    "movie_ids_with_avg_ratings_df.show(4, truncate=False)"
   ]
  },
  {
   "cell_type": "markdown",
   "metadata": {},
   "source": [
    "This dataframe will have names with movie_id, make it more understandable "
   ]
  },
  {
   "cell_type": "code",
   "execution_count": null,
   "metadata": {
    "application/vnd.databricks.v1+cell": {
     "cellMetadata": {
      "byteLimit": 2048000,
      "rowLimit": 10000
     },
     "inputWidgets": {},
     "nuid": "157f6132-ff42-402b-80e0-9fb57716dcb5",
     "showTitle": false,
     "title": ""
    }
   },
   "outputs": [
    {
     "name": "stdout",
     "output_type": "stream",
     "text": [
      "+-------+-----+------------------+--------------------------------+\n",
      "|movieId|count|average           |title                           |\n",
      "+-------+-----+------------------+--------------------------------+\n",
      "|1088   |11935|3.25002094679514  |Dirty Dancing (1987)            |\n",
      "|1580   |40308|3.5817083457378187|Men in Black (a.k.a. MIB) (1997)|\n",
      "|3175   |14659|3.6077836141619484|Galaxy Quest (1999)             |\n",
      "|44022  |4833 |3.2593627146699773|Ice Age 2: The Meltdown (2006)  |\n",
      "+-------+-----+------------------+--------------------------------+\n",
      "only showing top 4 rows\n",
      "\n"
     ]
    }
   ],
   "source": [
    "movie_names_with_avg_rating_df =movie_ids_with_avg_ratings_df.join(movies_df, F.col('movieID') == F.col('ID')).drop('ID')\n",
    "movie_names_with_avg_rating_df.show(4,truncate = False)"
   ]
  },
  {
   "cell_type": "markdown",
   "metadata": {},
   "source": [
    "So let us see the global popularity"
   ]
  },
  {
   "cell_type": "code",
   "execution_count": null,
   "metadata": {
    "application/vnd.databricks.v1+cell": {
     "cellMetadata": {
      "byteLimit": 2048000,
      "rowLimit": 10000
     },
     "inputWidgets": {},
     "nuid": "fd8a0d3b-5aba-43b6-9d12-32cab1126546",
     "showTitle": false,
     "title": ""
    }
   },
   "outputs": [
    {
     "name": "stdout",
     "output_type": "stream",
     "text": [
      "+-------+-----+------------------+---------------------------------------------------------------------------+\n",
      "|movieId|count|average           |title                                                                      |\n",
      "+-------+-----+------------------+---------------------------------------------------------------------------+\n",
      "|171011 |1124 |4.483096085409253 |Planet Earth II (2016)                                                     |\n",
      "|159817 |1747 |4.464796794504865 |Planet Earth (2006)                                                        |\n",
      "|318    |81482|4.413576004516335 |Shawshank Redemption, The (1994)                                           |\n",
      "|170705 |1356 |4.398598820058997 |Band of Brothers (2001)                                                    |\n",
      "|858    |52498|4.324336165187245 |Godfather, The (1972)                                                      |\n",
      "|179135 |659  |4.289833080424886 |Blue Planet II (2017)                                                      |\n",
      "|50     |55366|4.284353213163313 |Usual Suspects, The (1995)                                                 |\n",
      "|1221   |34188|4.2617585117585115|Godfather: Part II, The (1974)                                             |\n",
      "|163809 |546  |4.258241758241758 |Over the Garden Wall (2013)                                                |\n",
      "|2019   |13367|4.25476920775043  |Seven Samurai (Shichinin no samurai) (1954)                                |\n",
      "|142115 |564  |4.24822695035461  |The Blue Planet (2001)                                                     |\n",
      "|527    |60411|4.247579083279535 |Schindler's List (1993)                                                    |\n",
      "|1203   |16569|4.243014062405697 |12 Angry Men (1957)                                                        |\n",
      "|904    |20162|4.237947624243627 |Rear Window (1954)                                                         |\n",
      "|2959   |58773|4.228310618821568 |Fight Club (1999)                                                          |\n",
      "|1193   |36058|4.2186616007543405|One Flew Over the Cuckoo's Nest (1975)                                     |\n",
      "|750    |26714|4.215804447106386 |Dr. Strangelove or: How I Learned to Stop Worrying and Love the Bomb (1964)|\n",
      "|5618   |22719|4.212267265284564 |Spirited Away (Sen to Chihiro no kamikakushi) (2001)                       |\n",
      "|166024 |1030 |4.210194174757282 |Whiplash (2013)                                                            |\n",
      "|912    |26890|4.206563778356267 |Casablanca (1942)                                                          |\n",
      "+-------+-----+------------------+---------------------------------------------------------------------------+\n",
      "only showing top 20 rows\n",
      "\n"
     ]
    }
   ],
   "source": [
    "movies_with_500_ratings_or_more = movie_names_with_avg_rating_df.filter(movie_names_with_avg_rating_df['count'] >=500).orderBy('average', ascending =False)\n",
    "movies_with_500_ratings_or_more.show(truncate = False)"
   ]
  },
  {
   "cell_type": "markdown",
   "metadata": {},
   "source": [
    "Here the fun part, we splitting in TRAIN, TEST AND VALIDATION DATASET\n",
    "We'll hold out 60% for training, 20% of our data for validation, and leave 20% for testing"
   ]
  },
  {
   "cell_type": "code",
   "execution_count": null,
   "metadata": {
    "application/vnd.databricks.v1+cell": {
     "cellMetadata": {
      "byteLimit": 2048000,
      "rowLimit": 10000
     },
     "inputWidgets": {},
     "nuid": "a22306bd-5cc9-4964-a653-bad23f050e10",
     "showTitle": false,
     "title": ""
    }
   },
   "outputs": [
    {
     "name": "stdout",
     "output_type": "stream",
     "text": [
      "Training: 14996550, validation: 5003462, test: 5000083\n",
      "\n",
      "+------+-------+------+\n",
      "|userId|movieId|rating|\n",
      "+------+-------+------+\n",
      "|1     |306    |3.5   |\n",
      "|1     |307    |5.0   |\n",
      "|1     |665    |5.0   |\n",
      "|1     |899    |3.5   |\n",
      "+------+-------+------+\n",
      "only showing top 4 rows\n",
      "\n",
      "+------+-------+------+\n",
      "|userId|movieId|rating|\n",
      "+------+-------+------+\n",
      "|1     |1250   |4.0   |\n",
      "|1     |2011   |2.5   |\n",
      "|1     |2161   |3.5   |\n",
      "|1     |2351   |4.5   |\n",
      "+------+-------+------+\n",
      "only showing top 4 rows\n",
      "\n",
      "+------+-------+------+\n",
      "|userId|movieId|rating|\n",
      "+------+-------+------+\n",
      "|1     |296    |5.0   |\n",
      "|1     |1217   |3.5   |\n",
      "|1     |2068   |2.5   |\n",
      "|1     |2843   |4.5   |\n",
      "+------+-------+------+\n",
      "only showing top 4 rows\n",
      "\n"
     ]
    }
   ],
   "source": [
    "seed = 4\n",
    "(split_60_df, split_a_20_df, split_b_20_df) = ratings_df.randomSplit([0.6,0.2,0.2], seed)\n",
    "\n",
    "#Let's cache these datasets for performance\n",
    "training_df = split_60_df.cache()\n",
    "validation_df = split_a_20_df.cache()\n",
    "test_df = split_b_20_df.cache()\n",
    "\n",
    "print('Training: {0}, validation: {1}, test: {2}\\n'.format(training_df.count(), validation_df.count(), test_df.count())\n",
    "      )\n",
    "training_df.show(4,truncate=False)\n",
    "validation_df.show(4,truncate=False)\n",
    "test_df.show(4,truncate=False)"
   ]
  },
  {
   "cell_type": "markdown",
   "metadata": {},
   "source": [
    "We use Collaborative Filtering (i.e recommendation based on other user's behaviour)"
   ]
  },
  {
   "cell_type": "code",
   "execution_count": null,
   "metadata": {
    "application/vnd.databricks.v1+cell": {
     "cellMetadata": {
      "byteLimit": 2048000,
      "rowLimit": 10000
     },
     "inputWidgets": {},
     "nuid": "8a3548fe-c77a-4a2b-8210-ef4c31905534",
     "showTitle": false,
     "title": ""
    }
   },
   "outputs": [],
   "source": [
    "from pyspark.ml.recommendation import ALS\n",
    "als = ALS()\n",
    "\n",
    "#Reset the parameters for the ALS object.\n",
    "als.setPredictionCol(\"prediction\")\\\n",
    "    .setMaxIter(5)\\\n",
    "    .setSeed(seed)\\\n",
    "    .setRegParam(0.1)\\\n",
    "    .setUserCol('userId')\\\n",
    "    .setItemCol('movieId')\\\n",
    "    .setRatingCol('rating')\\\n",
    "    .setRank(8) #we got rank 8 as optimal\n",
    "\n",
    "#create the model with these parameters\n",
    "my_ratings_model = als.fit(training_df)"
   ]
  },
  {
   "cell_type": "code",
   "execution_count": null,
   "metadata": {
    "application/vnd.databricks.v1+cell": {
     "cellMetadata": {
      "byteLimit": 2048000,
      "rowLimit": 10000
     },
     "inputWidgets": {},
     "nuid": "5dcebb37-1ed0-4be3-83f1-ac56914ffd29",
     "showTitle": false,
     "title": ""
    }
   },
   "outputs": [
    {
     "name": "stdout",
     "output_type": "stream",
     "text": [
      "The model had a RMSE on the test set of 0.814153554974725\n"
     ]
    }
   ],
   "source": [
    "from pyspark.ml.evaluation import RegressionEvaluator\n",
    "from pyspark.sql.functions import col\n",
    "\n",
    "#create an RMSE evaluator using the label and predicted columns\n",
    "#it will essentially calculate the rmse score based on these columns\n",
    "reg_eval = RegressionEvaluator(predictionCol='prediction', labelCol='rating', metricName=\"rmse\")\n",
    "my_predict_df = my_ratings_model.transform(test_df)\n",
    "\n",
    "#Remove NaN values from prediction\n",
    "predicted_test_my_ratings_df = my_predict_df.filter(my_predict_df.prediction \n",
    " != float('nan'))\n",
    "\n",
    "\n",
    "#Run the previously created RMSE evaluator, reg_eval, on the predicted_test_my_ratings_df Dataframe\n",
    "test_RMSE_my_ratings = reg_eval.evaluate(predicted_test_my_ratings_df)\n",
    "print('The model had a RMSE on the test set of {0}'.format(test_RMSE_my_ratings))\n",
    "dbutils.widgets.text(\"input\", \"5\",\"\")\n",
    "ins = dbutils.widgets.get(\"input\")\n",
    "uid=int(ins)\n",
    "#set the movie recommendation foe each user\n",
    "ll=predicted_test_my_ratings_df.filter(col(\"userId\")==uid)"
   ]
  },
  {
   "cell_type": "markdown",
   "metadata": {},
   "source": [
    "Take ten movie for that user with the id = input and using exit() to give out the result to Azure services"
   ]
  },
  {
   "cell_type": "code",
   "execution_count": null,
   "metadata": {
    "application/vnd.databricks.v1+cell": {
     "cellMetadata": {
      "byteLimit": 2048000,
      "rowLimit": 10000
     },
     "inputWidgets": {},
     "nuid": "97117a48-d925-455a-bdcd-abfacb27ad2b",
     "showTitle": false,
     "title": ""
    }
   },
   "outputs": [],
   "source": [
    "MovieRec = ll.join(movies_df,F.col('movieID') == F.col('ID')).drop('ID').select('title').take(10)   \n",
    "\n",
    "ll=dbutils.notebook.exit(MovieRec)"
   ]
  }
 ],
 "metadata": {
  "application/vnd.databricks.v1+notebook": {
   "dashboards": [],
   "language": "python",
   "notebookMetadata": {
    "mostRecentlyExecutedCommandWithImplicitDF": {
     "commandId": 974452717642397,
     "dataframes": [
      "_sqldf"
     ]
    },
    "pythonIndentUnit": 4
   },
   "notebookName": "Movie_Lens_25M",
   "widgets": {
    "input": {
     "currentValue": "5",
     "nuid": "46763a08-e1ec-4bff-8534-d0e872bbf91a",
     "widgetInfo": {
      "defaultValue": "5",
      "label": "",
      "name": "input",
      "options": {
       "validationRegex": null,
       "widgetType": "text"
      },
      "widgetType": "text"
     }
    }
   }
  },
  "language_info": {
   "name": "python"
  }
 },
 "nbformat": 4,
 "nbformat_minor": 0
}
