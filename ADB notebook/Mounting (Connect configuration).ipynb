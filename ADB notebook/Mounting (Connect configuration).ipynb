{
 "cells": [
  {
   "cell_type": "markdown",
   "metadata": {},
   "source": [
    "Mounting with your Blob storage"
   ]
  },
  {
   "cell_type": "code",
   "execution_count": null,
   "metadata": {
    "application/vnd.databricks.v1+cell": {
     "cellMetadata": {
      "byteLimit": 2048000,
      "rowLimit": 10000
     },
     "inputWidgets": {},
     "nuid": "b6f4f810-35b0-42a8-85ed-d265c251a004",
     "showTitle": false,
     "title": ""
    }
   },
   "outputs": [],
   "source": [
    "butils.fs.mount(\n",
    "  source = \"wasbs://<container-name>@<storage-account-name>.blob.core.windows.net\",\n",
    "  ##change storgeName/containerName to whichever location you want like\n",
    "  mount_point = \"/mnt/temp\",\n",
    "  extra_configs = {\"fs.azure.account.key.<storage-account-name>.blob.core.windows.net\":dbutils.secrets.get(scope = \"<scope-name>\", key = \"<key-name>\")})\n"
   ]
  },
  {
   "cell_type": "markdown",
   "metadata": {},
   "source": [
    "Use your mounting and list the file (you now at storageName/ContainerName which is equal to \"/mnt/temp\")\n"
   ]
  },
  {
   "cell_type": "code",
   "execution_count": null,
   "metadata": {
    "application/vnd.databricks.v1+cell": {
     "cellMetadata": {},
     "inputWidgets": {},
     "nuid": "a659bd4c-67a3-4d2a-907c-e0532967e72b",
     "showTitle": false,
     "title": ""
    }
   },
   "outputs": [],
   "source": [
    "dbutils.fs.ls(\"/mnt/temp/\")"
   ]
  }
 ],
 "metadata": {
  "application/vnd.databricks.v1+notebook": {
   "dashboards": [],
   "language": "python",
   "notebookMetadata": {
    "pythonIndentUnit": 4
   },
   "notebookName": "Mounting (Connect configuration)",
   "widgets": {}
  },
  "language_info": {
   "name": "python"
  }
 },
 "nbformat": 4,
 "nbformat_minor": 0
}
